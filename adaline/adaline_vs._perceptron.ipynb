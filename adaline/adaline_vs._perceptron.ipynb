{
 "cells": [
  {
   "cell_type": "markdown",
   "metadata": {},
   "source": [
    "# Adaline vs. Perceptron"
   ]
  },
  {
   "cell_type": "code",
   "execution_count": 1,
   "metadata": {
    "scrolled": true
   },
   "outputs": [],
   "source": [
    "import sys\n",
    "sys.path.insert(0, '../neural_networks/')\n",
    "\n",
    "from perceptron import Perceptron\n",
    "from adaline import Adaline"
   ]
  },
  {
   "cell_type": "code",
   "execution_count": 2,
   "metadata": {},
   "outputs": [],
   "source": [
    "import pandas as pd\n",
    "dataset = pd.read_csv('../dataset/logic_gates/and_or_2.csv', header=None)\n",
    "\n",
    "X = dataset.iloc[:,:-2].values\n",
    "y_and = dataset.iloc[:,-2].values\n",
    "y_or = dataset.iloc[:,-1].values"
   ]
  },
  {
   "cell_type": "code",
   "execution_count": 3,
   "metadata": {},
   "outputs": [
    {
     "name": "stdout",
     "output_type": "stream",
     "text": [
      "Adaline: 0.009101390838623047 seconds\n",
      "Perceptron: 0.0017430782318115234 seconds\n",
      "\n",
      "Adaline/Perceptron = 5.221447134454931\n"
     ]
    }
   ],
   "source": [
    "import time\n",
    "\n",
    "start_time = time.time()      \n",
    "# Fit and predict AND GATE with Perceptron\n",
    "classifier = Adaline(epochs=100, rate=0.1, error_max=1e-3)\n",
    "classifier.fit(X, y_and)\n",
    "y_pred = classifier.predict(X)\n",
    "\n",
    "# Fit and predict OR GATE with Perceptron\n",
    "classifier = Adaline(epochs=100, rate=0.1, error_max=1e-3)\n",
    "classifier.fit(X, y_or)\n",
    "y_pred = classifier.predict(X)\n",
    "\n",
    "adaline_time = time.time() - start_time\n",
    "print('Adaline: %s seconds' % (adaline_time))\n",
    "\n",
    "start_time = time.time()      \n",
    "# Fit and predict AND GATE with Perceptron\n",
    "classifier = Perceptron(epochs=100, rate=0.1, error_max=1e-3)\n",
    "classifier.fit(X, y_and)\n",
    "y_pred = classifier.predict(X)\n",
    "\n",
    "# Fit and predict OR GATE with Perceptron\n",
    "classifier = Perceptron(epochs=100, rate=0.1, error_max=1e-3)\n",
    "classifier.fit(X, y_or)\n",
    "y_pred = classifier.predict(X)\n",
    "\n",
    "perceptron_time = time.time() - start_time\n",
    "print('Perceptron: %s seconds' % (perceptron_time))\n",
    "\n",
    "\n",
    "print('\\nAdaline/Perceptron = %s' % (adaline_time/perceptron_time))"
   ]
  }
 ],
 "metadata": {
  "kernelspec": {
   "display_name": "Python 3",
   "language": "python",
   "name": "python3"
  },
  "language_info": {
   "codemirror_mode": {
    "name": "ipython",
    "version": 3
   },
   "file_extension": ".py",
   "mimetype": "text/x-python",
   "name": "python",
   "nbconvert_exporter": "python",
   "pygments_lexer": "ipython3",
   "version": "3.6.3"
  }
 },
 "nbformat": 4,
 "nbformat_minor": 2
}
