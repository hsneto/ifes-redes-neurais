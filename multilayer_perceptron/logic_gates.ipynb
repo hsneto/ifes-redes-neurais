{
 "cells": [
  {
   "cell_type": "markdown",
   "metadata": {},
   "source": [
    "# Multilayer Perceptron: Logic Gates"
   ]
  },
  {
   "cell_type": "code",
   "execution_count": 1,
   "metadata": {
    "colab": {
     "autoexec": {
      "startup": false,
      "wait_interval": 0
     }
    },
    "colab_type": "code",
    "id": "fhSOL9oikaE-"
   },
   "outputs": [],
   "source": [
    "import numpy as np\n",
    "import pandas as pd\n",
    "\n",
    "import sys\n",
    "sys.path.insert(0, '../neural_networks/')\n",
    "from multilayer_perceptron import MultiLayerPerceptron"
   ]
  },
  {
   "cell_type": "code",
   "execution_count": 2,
   "metadata": {},
   "outputs": [],
   "source": [
    "dataset = pd.read_csv('../dataset/logic_gates/and_or_2.csv', header=None)\n",
    "dataset_xor = pd.read_csv('../dataset/logic_gates/xor_2.csv', header=None)\n",
    "\n",
    "X = dataset_xor.iloc[:,:-1].values\n",
    "y_xor = dataset_xor.iloc[:,-1].values\n",
    "y_and = dataset.iloc[:,-2].values\n",
    "y_or = dataset.iloc[:,-1].values"
   ]
  },
  {
   "cell_type": "markdown",
   "metadata": {},
   "source": [
    "## AND (2):"
   ]
  },
  {
   "cell_type": "code",
   "execution_count": 3,
   "metadata": {},
   "outputs": [
    {
     "data": {
      "text/plain": [
       "array([[-0.99944996],\n",
       "       [-0.96762815],\n",
       "       [-0.9637792 ],\n",
       "       [ 0.95247074]])"
      ]
     },
     "execution_count": 3,
     "metadata": {},
     "output_type": "execute_result"
    }
   ],
   "source": [
    "mlp = MultiLayerPerceptron()\n",
    "mlp.add_layer(2, 0.1, 'tanh') \n",
    "mlp.add_layer(1, 0.1, 'tanh') \n",
    "mlp.fit(X, y_and, epochs=500, error_max=1e-6)\n",
    "mlp.predict(X)"
   ]
  },
  {
   "cell_type": "markdown",
   "metadata": {},
   "source": [
    "## OR (2):"
   ]
  },
  {
   "cell_type": "code",
   "execution_count": 4,
   "metadata": {},
   "outputs": [
    {
     "data": {
      "text/plain": [
       "array([[-0.95695595],\n",
       "       [ 0.96714502],\n",
       "       [ 0.97312978],\n",
       "       [ 0.99651065]])"
      ]
     },
     "execution_count": 4,
     "metadata": {},
     "output_type": "execute_result"
    }
   ],
   "source": [
    "mlp = MultiLayerPerceptron()\n",
    "mlp.add_layer(2, 0.1, 'tanh') \n",
    "mlp.add_layer(1, 0.1, 'tanh') \n",
    "mlp.fit(X, y_or, epochs=500, error_max=1e-6)\n",
    "mlp.predict(X)"
   ]
  },
  {
   "cell_type": "markdown",
   "metadata": {},
   "source": [
    "## XOR (2):"
   ]
  },
  {
   "cell_type": "code",
   "execution_count": 5,
   "metadata": {
    "colab": {
     "autoexec": {
      "startup": false,
      "wait_interval": 0
     }
    },
    "colab_type": "code",
    "id": "5Ha5IFY9kmLI"
   },
   "outputs": [
    {
     "data": {
      "text/plain": [
       "array([[-0.93399577],\n",
       "       [ 0.94319464],\n",
       "       [ 0.94393081],\n",
       "       [-0.92519271]])"
      ]
     },
     "execution_count": 5,
     "metadata": {},
     "output_type": "execute_result"
    }
   ],
   "source": [
    "mlp = MultiLayerPerceptron()\n",
    "mlp.add_layer(2, 0.1, 'tanh') \n",
    "mlp.add_layer(1, 0.1, 'tanh') \n",
    "mlp.fit(X, y_xor, epochs=500, error_max=1e-6)\n",
    "mlp.predict(X)"
   ]
  },
  {
   "cell_type": "code",
   "execution_count": 6,
   "metadata": {},
   "outputs": [],
   "source": [
    "dataset = pd.read_csv('../dataset/logic_gates/and_or_3.csv', header=None)\n",
    "dataset_xor = pd.read_csv('../dataset/logic_gates/xor_3.csv', header=None)\n",
    "\n",
    "X = dataset_xor.iloc[:,:-1].values\n",
    "y_xor = dataset_xor.iloc[:,-1].values\n",
    "y_and = dataset.iloc[:,-2].values\n",
    "y_or = dataset.iloc[:,-1].values"
   ]
  },
  {
   "cell_type": "markdown",
   "metadata": {},
   "source": [
    "## AND (3):"
   ]
  },
  {
   "cell_type": "code",
   "execution_count": 7,
   "metadata": {},
   "outputs": [
    {
     "data": {
      "text/plain": [
       "array([[-0.99995222],\n",
       "       [-0.99977585],\n",
       "       [-0.99985823],\n",
       "       [-0.99955764],\n",
       "       [-0.96959544],\n",
       "       [-0.96465834],\n",
       "       [-0.96778988],\n",
       "       [ 0.94438678]])"
      ]
     },
     "execution_count": 7,
     "metadata": {},
     "output_type": "execute_result"
    }
   ],
   "source": [
    "mlp = MultiLayerPerceptron()\n",
    "mlp.add_layer(2, 0.1, 'tanh') \n",
    "mlp.add_layer(1, 0.1, 'tanh') \n",
    "mlp.fit(X, y_and, epochs=500, error_max=1e-6)\n",
    "mlp.predict(X)"
   ]
  },
  {
   "cell_type": "markdown",
   "metadata": {},
   "source": [
    "## OR (3):"
   ]
  },
  {
   "cell_type": "code",
   "execution_count": 8,
   "metadata": {},
   "outputs": [
    {
     "data": {
      "text/plain": [
       "array([[-0.95467224],\n",
       "       [ 0.97503473],\n",
       "       [ 0.9720681 ],\n",
       "       [ 0.97689737],\n",
       "       [ 0.99763678],\n",
       "       [ 0.99847841],\n",
       "       [ 0.99822369],\n",
       "       [ 0.99887836]])"
      ]
     },
     "execution_count": 8,
     "metadata": {},
     "output_type": "execute_result"
    }
   ],
   "source": [
    "mlp = MultiLayerPerceptron()\n",
    "mlp.add_layer(2, 0.1, 'tanh') \n",
    "mlp.add_layer(1, 0.1, 'tanh') \n",
    "mlp.fit(X, y_or, epochs=500, error_max=1e-6)\n",
    "mlp.predict(X)"
   ]
  },
  {
   "cell_type": "markdown",
   "metadata": {},
   "source": [
    "## XOR (3):"
   ]
  },
  {
   "cell_type": "code",
   "execution_count": 9,
   "metadata": {
    "colab": {
     "autoexec": {
      "startup": false,
      "wait_interval": 0
     }
    },
    "colab_type": "code",
    "id": "5Ha5IFY9kmLI"
   },
   "outputs": [
    {
     "data": {
      "text/plain": [
       "array([[-0.93681414],\n",
       "       [ 0.98045405],\n",
       "       [ 0.97881195],\n",
       "       [ 0.98498801],\n",
       "       [ 0.95777157],\n",
       "       [ 0.95680953],\n",
       "       [ 0.95633146],\n",
       "       [-0.92409693]])"
      ]
     },
     "execution_count": 9,
     "metadata": {},
     "output_type": "execute_result"
    }
   ],
   "source": [
    "mlp = MultiLayerPerceptron()\n",
    "mlp.add_layer(2, 0.1, 'tanh') \n",
    "mlp.add_layer(1, 0.1, 'tanh') \n",
    "mlp.fit(X, y_xor, epochs=500, error_max=1e-6)\n",
    "mlp.predict(X)"
   ]
  }
 ],
 "metadata": {
  "colab": {
   "collapsed_sections": [],
   "default_view": {},
   "name": "Untitled.ipynb",
   "provenance": [],
   "version": "0.3.2",
   "views": {}
  },
  "kernelspec": {
   "display_name": "Python 3",
   "language": "python",
   "name": "python3"
  },
  "language_info": {
   "codemirror_mode": {
    "name": "ipython",
    "version": 3
   },
   "file_extension": ".py",
   "mimetype": "text/x-python",
   "name": "python",
   "nbconvert_exporter": "python",
   "pygments_lexer": "ipython3",
   "version": "3.6.3"
  }
 },
 "nbformat": 4,
 "nbformat_minor": 1
}
